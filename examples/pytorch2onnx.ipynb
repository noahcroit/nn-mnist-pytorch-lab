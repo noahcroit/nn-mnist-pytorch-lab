{
 "cells": [
  {
   "cell_type": "code",
   "execution_count": 1,
   "id": "7c776a38-a452-4655-8aa7-50cf6f713da7",
   "metadata": {},
   "outputs": [],
   "source": [
    "# Create NN model using PyTorch\n",
    "import torch\n",
    "from torch import nn\n",
    "\n",
    "class MLP(nn.Module):\n",
    "    def __init__(self, input_size, hidden_size, output_size):\n",
    "        super().__init__()\n",
    "        self.layer1 = nn.Linear(input_size, hidden_size)\n",
    "        self.layer_out = nn.Linear(hidden_size, output_size)\n",
    "        self.activation_fn = nn.Sigmoid()\n",
    "        \n",
    "    def forward(self, x):\n",
    "        z1 = self.layer1(x)\n",
    "        a1 = self.activation_fn(z1)\n",
    "        z_out = self.layer_out(a1)\n",
    "        y = nn.Softmax(dim=1)(z_out)\n",
    "        return y"
   ]
  },
  {
   "cell_type": "code",
   "execution_count": 2,
   "id": "979f1373-6cb4-4d31-8525-1c5b2dc4a4ea",
   "metadata": {},
   "outputs": [
    {
     "name": "stdout",
     "output_type": "stream",
     "text": [
      "MLP(\n",
      "  (layer1): Linear(in_features=4, out_features=8, bias=True)\n",
      "  (layer_out): Linear(in_features=8, out_features=3, bias=True)\n",
      "  (activation_fn): Sigmoid()\n",
      ")\n"
     ]
    }
   ],
   "source": [
    "# Load .pth model\n",
    "\n",
    "# Warning, model class of your .pth must be defined somewhere\n",
    "path = 'model_iris.pth'\n",
    "loaded_model = torch.load(path, weights_only=False)\n",
    "\n",
    "# Remember that you must call model.eval() to set dropout and batch normalization layers to evaluation mode \n",
    "# before running inference. Failing to do this will yield inconsistent inference results.\n",
    "loaded_model.eval()\n",
    "\n",
    "print(loaded_model)"
   ]
  },
  {
   "cell_type": "code",
   "execution_count": 3,
   "id": "b0c3135a-f4fe-43d0-80a9-6a5bab10b7b8",
   "metadata": {},
   "outputs": [],
   "source": [
    "# Export ONNX formatted model from .pth model \n",
    "import torch\n",
    "input_size_iris = 4 # input for iris model\n",
    "dummy_input = torch.rand(1, input_size_iris)\n",
    "input_names = [\"input\"]\n",
    "output_names = [\"output\"]\n",
    "torch.onnx.export(loaded_model,\n",
    "                 dummy_input,\n",
    "                 \"model_iris.onnx\",\n",
    "                 verbose=False,\n",
    "                 input_names=input_names,\n",
    "                 output_names=output_names,\n",
    "                 export_params=True,\n",
    "                 )"
   ]
  },
  {
   "cell_type": "code",
   "execution_count": null,
   "id": "fdb1ee07-cc21-4e2e-9ef3-42a6e52e0617",
   "metadata": {},
   "outputs": [],
   "source": []
  }
 ],
 "metadata": {
  "kernelspec": {
   "display_name": "Python 3 (ipykernel)",
   "language": "python",
   "name": "python3"
  },
  "language_info": {
   "codemirror_mode": {
    "name": "ipython",
    "version": 3
   },
   "file_extension": ".py",
   "mimetype": "text/x-python",
   "name": "python",
   "nbconvert_exporter": "python",
   "pygments_lexer": "ipython3",
   "version": "3.10.12"
  }
 },
 "nbformat": 4,
 "nbformat_minor": 5
}
