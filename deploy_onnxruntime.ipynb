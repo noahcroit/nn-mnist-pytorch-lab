{
 "cells": [
  {
   "cell_type": "code",
   "execution_count": 25,
   "id": "c011cec0-14ac-475a-95e8-240fcaa4e2f5",
   "metadata": {},
   "outputs": [
    {
     "name": "stdout",
     "output_type": "stream",
     "text": [
      "graph main_graph (\n",
      "  %input[FLOAT, 1x28x28]\n",
      ") initializers (\n",
      "  %layer1.bias[FLOAT, 100]\n",
      "  %layer2.bias[FLOAT, 100]\n",
      "  %layer_out.bias[FLOAT, 10]\n",
      "  %onnx::MatMul_22[FLOAT, 784x100]\n",
      "  %onnx::MatMul_23[FLOAT, 100x100]\n",
      "  %onnx::MatMul_24[FLOAT, 100x10]\n",
      ") {\n",
      "  %/flatten/Flatten_output_0 = Flatten[axis = 1](%input)\n",
      "  %/Constant_output_0 = Constant[value = <Scalar Tensor []>]()\n",
      "  %/Gather_output_0 = Gather[axis = 0](%/flatten/Flatten_output_0, %/Constant_output_0)\n",
      "  %/layer1/MatMul_output_0 = MatMul(%/Gather_output_0, %onnx::MatMul_22)\n",
      "  %/layer1/Add_output_0 = Add(%layer1.bias, %/layer1/MatMul_output_0)\n",
      "  %/activation_fn1/Sigmoid_output_0 = Sigmoid(%/layer1/Add_output_0)\n",
      "  %/layer2/MatMul_output_0 = MatMul(%/activation_fn1/Sigmoid_output_0, %onnx::MatMul_23)\n",
      "  %/layer2/Add_output_0 = Add(%layer2.bias, %/layer2/MatMul_output_0)\n",
      "  %/activation_fn2/Sigmoid_output_0 = Sigmoid(%/layer2/Add_output_0)\n",
      "  %/layer_out/MatMul_output_0 = MatMul(%/activation_fn2/Sigmoid_output_0, %onnx::MatMul_24)\n",
      "  %/layer_out/Add_output_0 = Add(%layer_out.bias, %/layer_out/MatMul_output_0)\n",
      "  %output = Softmax[axis = 0](%/layer_out/Add_output_0)\n",
      "  return %output\n",
      "}\n"
     ]
    }
   ],
   "source": [
    "# Try to import the ONNX model from the previous section\n",
    "import onnx\n",
    "\n",
    "# Load the ONNX model\n",
    "model = onnx.load(\"model_mnist.onnx\")\n",
    "\n",
    "# Check that the model is well formed\n",
    "onnx.checker.check_model(model)\n",
    "\n",
    "print(onnx.helper.printable_graph(model.graph))"
   ]
  },
  {
   "cell_type": "code",
   "execution_count": 26,
   "id": "511d4f0b-75d5-47df-b826-3d5f6a812519",
   "metadata": {},
   "outputs": [
    {
     "name": "stdout",
     "output_type": "stream",
     "text": [
      "[array([9.4346695e-02, 2.2324764e-05, 1.6347086e-01, 6.2449867e-01,\n",
      "       7.8253997e-06, 8.4286317e-02, 2.2796572e-04, 4.5060870e-04,\n",
      "       3.2457624e-02, 2.3119885e-04], dtype=float32)]\n",
      "img/0.jpg , predicted number= 0\n",
      "img/1.jpg , predicted number= 1\n",
      "img/2.jpg , predicted number= 8\n",
      "img/3.jpg , predicted number= 3\n",
      "img/4.jpg , predicted number= 4\n",
      "img/5.jpg , predicted number= 0\n",
      "img/6.jpg , predicted number= 6\n",
      "img/7.jpg , predicted number= 7\n",
      "img/8.jpg , predicted number= 8\n",
      "img/9.jpg , predicted number= 7\n"
     ]
    },
    {
     "data": {
      "image/png": "[encoded data removed]",
      "text/plain": [
       "<Figure size 200x500 with 10 Axes>"
      ]
     },
     "metadata": {},
     "output_type": "display_data"
    }
   ],
   "source": [
    "# Run model with onnx runtime\n",
    "import numpy as np\n",
    "import matplotlib.pyplot as plt\n",
    "import cv2\n",
    "import onnxruntime\n",
    "\n",
    "# Load the ONNX model\n",
    "session = onnxruntime.InferenceSession('model_mnist.onnx')\n",
    "\n",
    "\n",
    "random_array_2d = np.random.rand(1, 28, 28).astype(np.float32)\n",
    "print(output)\n",
    "\n",
    "# Test with your own handwritten images.\n",
    "fig=plt.figure(figsize=(2, 5))\n",
    "for i in range(1, 11):\n",
    "    # Load image, Resize to 28x28, Invert and Normalize the pixel values\n",
    "    path = 'img/' + str(i-1) + '.jpg'\n",
    "    img_original = cv2.imread(path)\n",
    "    img = cv2.resize(img_original, (28, 28), interpolation=cv2.INTER_AREA)\n",
    "    img = cv2.bitwise_not(img)\n",
    "    img = img / 256\n",
    "    ax = fig.add_subplot(2, 5, i)\n",
    "    ax.set_xticks([])\n",
    "    ax.set_yticks([])\n",
    "    plt.imshow(img)\n",
    "    \n",
    "    # Convert numpy image into tensor image\n",
    "    # Select only 1 channel of RGB images is enough.\n",
    "    # Add dimension to image to have the same format as MNIST data which has 4 dimensions with unsqueeze()\n",
    "    img = img[:,:,0].astype(np.float32)\n",
    "    data_input = np.expand_dims(img, axis=0)\n",
    "    \n",
    "    # Prediction\n",
    "    predict = session.run(None, {'input': data_input})\n",
    "    indices_predict = np.argmax(predict)\n",
    "    print(path, \", predicted number=\", int(indices_predict))\n",
    "    plt.title(str(int(indices_predict)))"
   ]
  }
 ],
 "metadata": {
  "kernelspec": {
   "display_name": "Python 3 (ipykernel)",
   "language": "python",
   "name": "python3"
  },
  "language_info": {
   "codemirror_mode": {
    "name": "ipython",
    "version": 3
   },
   "file_extension": ".py",
   "mimetype": "text/x-python",
   "name": "python",
   "nbconvert_exporter": "python",
   "pygments_lexer": "ipython3",
   "version": "3.10.12"
  }
 },
 "nbformat": 4,
 "nbformat_minor": 5
}
