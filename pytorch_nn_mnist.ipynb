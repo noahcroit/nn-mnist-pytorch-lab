{
 "cells": [
  {
   "cell_type": "code",
   "execution_count": 38,
   "id": "52c555ab-d69a-486f-ba0a-73a9f1f48c5d",
   "metadata": {},
   "outputs": [
    {
     "name": "stdout",
     "output_type": "stream",
     "text": [
      "MLP_MNIST(\n",
      "  (flatten): Flatten(start_dim=1, end_dim=-1)\n",
      "  (layer1): Linear(in_features=784, out_features=100, bias=True)\n",
      "  (activation_fn1): Sigmoid()\n",
      "  (layer2): Linear(in_features=100, out_features=100, bias=True)\n",
      "  (activation_fn2): Sigmoid()\n",
      "  (layer_out): Linear(in_features=100, out_features=10, bias=True)\n",
      "  (softmax): Softmax(dim=0)\n",
      ")\n"
     ]
    }
   ],
   "source": [
    "# Create NN model using PyTorch\n",
    "import torch\n",
    "from torch import nn\n",
    "\n",
    "class MLP_MNIST(nn.Module):\n",
    "    def __init__(self, input_size, h1_size, h2_size, output_size):\n",
    "        super().__init__()\n",
    "        self.flatten = nn.Flatten()\n",
    "        self.layer1 = nn.Linear(input_size, h1_size)\n",
    "        self.activation_fn1 = nn.Sigmoid()\n",
    "        self.layer2 = nn.Linear(h1_size, h2_size)\n",
    "        self.activation_fn2 = nn.Sigmoid()\n",
    "        self.layer_out = nn.Linear(h2_size, output_size)\n",
    "        self.softmax = nn.Softmax(dim=0)\n",
    "\n",
    "    def flatten_mnist(self, x):\n",
    "        result = self.flatten(x)[0]\n",
    "        return result\n",
    "        \n",
    "    def forward(self, x):\n",
    "        x = self.flatten_mnist(x)\n",
    "        z1 = self.layer1(x)\n",
    "        a1 = self.activation_fn1(z1)\n",
    "        z2 = self.layer2(a1)\n",
    "        a2 = self.activation_fn2(z2)\n",
    "        z_out = self.layer_out(a2)\n",
    "        y = self.softmax(z_out)\n",
    "        return y\n",
    "\n",
    "model_mnist = MLP_MNIST(784, 100, 100, 10)\n",
    "print(model_mnist)"
   ]
  },
  {
   "cell_type": "code",
   "execution_count": 39,
   "id": "ac0c961d-286e-42e7-8ccf-c3b548a86e1d",
   "metadata": {},
   "outputs": [],
   "source": [
    "# Load the MNIST handwritten number dataset by using PyTorch\n",
    "import torch\n",
    "import torchvision\n",
    "from torchvision.datasets import MNIST\n",
    "from torch.utils.data import TensorDataset, DataLoader\n",
    "\n",
    "batch_size = 1\n",
    "# Read the MNIST dataset by using torch and torchvision\n",
    "# This will download the file to PATH if there's no dataset in the PATH\n",
    "train_loader = DataLoader(\n",
    "    MNIST('dataset', train=True, download=True,\n",
    "          transform=torchvision.transforms.Compose([torchvision.transforms.ToTensor()])),\n",
    "    batch_size=batch_size,\n",
    "    shuffle=True\n",
    ")\n",
    "\n",
    "test_loader = DataLoader(\n",
    "    MNIST('dataset', train=False, download=True,\n",
    "          transform=torchvision.transforms.Compose([torchvision.transforms.ToTensor()])),\n",
    "    batch_size=batch_size,\n",
    "    shuffle=True\n",
    ")\n",
    "\n",
    "# Our label is integer (0-9). So, we need a function to convert it into 1x10 vector\n",
    "# example 0 -> [1, 0, 0, 0, 0, 0, 0, 0, 0, 0]\n",
    "# example 3 -> [0, 0, 0, 1, 0, 0, 0, 0, 0, 0]\n",
    "def label_conversion_for_outputlayer(y):\n",
    "    if y == 0:\n",
    "        ret = [1, 0, 0, 0, 0, 0, 0, 0, 0, 0]\n",
    "    elif y == 1:\n",
    "        ret = [0, 1, 0, 0, 0, 0, 0, 0, 0, 0]\n",
    "    elif y == 2:\n",
    "        ret = [0, 0, 1, 0, 0, 0, 0, 0, 0, 0]\n",
    "    elif y == 3:\n",
    "        ret = [0, 0, 0, 1, 0, 0, 0, 0, 0, 0]\n",
    "    elif y == 4:\n",
    "        ret = [0, 0, 0, 0, 1, 0, 0, 0, 0, 0]\n",
    "    elif y == 5:\n",
    "        ret = [0, 0, 0, 0, 0, 1, 0, 0, 0, 0]\n",
    "    elif y == 6:\n",
    "        ret = [0, 0, 0, 0, 0, 0, 1, 0, 0, 0]\n",
    "    elif y == 7:\n",
    "        ret = [0, 0, 0, 0, 0, 0, 0, 1, 0, 0]\n",
    "    elif y == 8:\n",
    "        ret = [0, 0, 0, 0, 0, 0, 0, 0, 1, 0]\n",
    "    elif y == 9:\n",
    "        ret = [0, 0, 0, 0, 0, 0, 0, 0, 0, 1]\n",
    "    return torch.Tensor(ret)\n",
    "    "
   ]
  },
  {
   "cell_type": "code",
   "execution_count": 46,
   "id": "865b7a95-2758-42ab-9018-c1585cfb8ea5",
   "metadata": {},
   "outputs": [
    {
     "name": "stdout",
     "output_type": "stream",
     "text": [
      "Epoch 0 Loss 0.0271\n",
      "Epoch 1 Loss 0.0009\n",
      "Epoch 2 Loss 0.0006\n",
      "Epoch 3 Loss 0.0125\n",
      "Epoch 4 Loss 0.0061\n",
      "Epoch 5 Loss 0.0002\n",
      "Epoch 6 Loss 0.0099\n",
      "Epoch 7 Loss 0.0057\n",
      "Epoch 8 Loss 0.0004\n",
      "Epoch 9 Loss 0.0000\n",
      "Epoch 10 Loss 0.0000\n",
      "Epoch 11 Loss 0.0004\n",
      "Epoch 12 Loss 0.0062\n",
      "Epoch 13 Loss 0.0047\n",
      "Epoch 14 Loss 0.0004\n",
      "Epoch 15 Loss 0.0002\n",
      "Epoch 16 Loss 0.0000\n",
      "Epoch 17 Loss 0.0000\n",
      "Epoch 18 Loss 0.0001\n",
      "Epoch 19 Loss 0.0000\n"
     ]
    }
   ],
   "source": [
    "# Training\n",
    "from torch.optim import SGD\n",
    "\n",
    "# hyperparameters\n",
    "learning_rate = 0.01\n",
    "momentum = 0.01\n",
    "\n",
    "# Loss function\n",
    "loss_fn = nn.MSELoss(reduction='mean')\n",
    "# Stochastic Gradient Descent (SGD) as optimizer in training procedure\n",
    "# \n",
    "# v = momentum * v - lr * grad(w)\n",
    "# w = w + v\n",
    "optimizer = SGD(model_mnist.parameters(), lr=learning_rate, momentum=momentum)\n",
    "\n",
    "num_epochs = 20\n",
    "# Start iterate for model training\n",
    "loss_arr = []\n",
    "for epoch in range(num_epochs):\n",
    "    for batch_idx, train_data in enumerate(train_loader):\n",
    "        x_batch, y_batch = train_data\n",
    "        # 0. Reset the gradients to zero\n",
    "        optimizer.zero_grad()\n",
    "        # 1. Generate predictions\n",
    "        predict = model_mnist(x_batch)\n",
    "        # 2. Calculate loss\n",
    "        y = label_conversion_for_outputlayer(y_batch)\n",
    "        loss = loss_fn(predict, y)\n",
    "        # 3. Compute gradients\n",
    "        loss.backward()\n",
    "        # 4. Update parameters using gradients\n",
    "        optimizer.step()\n",
    "    print(f'Epoch {epoch} Loss {loss.item():.4f}')\n",
    "    loss_arr.append(loss.item())"
   ]
  },
  {
   "cell_type": "code",
   "execution_count": 47,
   "id": "b4e51c3c-cdc4-4108-970e-2cb8c7cbb36b",
   "metadata": {},
   "outputs": [
    {
     "data": {
      "image/png": "[encoded data removed]",
      "text/plain": [
       "<Figure size 640x480 with 1 Axes>"
      ]
     },
     "metadata": {},
     "output_type": "display_data"
    }
   ],
   "source": [
    "# Plot the epoch vs loss \n",
    "import matplotlib.pyplot as plt\n",
    "\n",
    "plt.plot(list(range(num_epochs)), loss_arr)\n",
    "plt.xlabel('iterations')\n",
    "plt.ylabel('Loss')\n",
    "plt.show()"
   ]
  },
  {
   "cell_type": "code",
   "execution_count": 48,
   "id": "7bfafbcc-0c3f-49d0-8a2f-1bc5e5747afa",
   "metadata": {},
   "outputs": [
    {
     "name": "stdout",
     "output_type": "stream",
     "text": [
      "number of correction= 9344  out of  10000 , accuracy= 0.9344\n"
     ]
    }
   ],
   "source": [
    "# Testing resulted model by measuring the accuracy\n",
    "# accuracy = num of correction / num of total prediction\n",
    "\n",
    "correct = 0\n",
    "total = 0\n",
    "for idx, test_data in enumerate(test_loader):\n",
    "    x, actual = test_data\n",
    "    predict = model_mnist(x)\n",
    "    actual = label_conversion_for_outputlayer(actual)\n",
    "    val_predict, indices_predict = torch.max(predict, 0)\n",
    "    val_actual, indices_actual = torch.max(actual, 0)\n",
    "    if indices_predict == indices_actual:\n",
    "        correct += 1\n",
    "    total += 1\n",
    "print(\"number of correction=\", correct, \" out of \", total, \", accuracy=\", correct/total)\n"
   ]
  },
  {
   "cell_type": "code",
   "execution_count": 49,
   "id": "9604da48-83c2-4bd9-8906-9d67b9d761e5",
   "metadata": {},
   "outputs": [
    {
     "name": "stdout",
     "output_type": "stream",
     "text": [
      "img/0.jpg , predicted number= 0\n",
      "img/1.jpg , predicted number= 1\n",
      "img/2.jpg , predicted number= 8\n",
      "img/3.jpg , predicted number= 3\n",
      "img/4.jpg , predicted number= 4\n",
      "img/5.jpg , predicted number= 0\n",
      "img/6.jpg , predicted number= 6\n",
      "img/7.jpg , predicted number= 7\n",
      "img/8.jpg , predicted number= 8\n",
      "img/9.jpg , predicted number= 7\n"
     ]
    },
    {
     "data": {
      "image/png": "[encoded data removed]",
      "text/plain": [
       "<Figure size 200x500 with 10 Axes>"
      ]
     },
     "metadata": {},
     "output_type": "display_data"
    }
   ],
   "source": [
    "# Test with your own handwritten images.\n",
    "import cv2\n",
    "import matplotlib.pyplot as plt\n",
    "\n",
    "fig=plt.figure(figsize=(2, 5))\n",
    "for i in range(1, 11):\n",
    "    # Load image, Resize to 28x28, Invert and Normalize the pixel values\n",
    "    path = 'img/' + str(i-1) + '.jpg'\n",
    "    img_original = cv2.imread(path)\n",
    "    img = cv2.resize(img_original, (28, 28), interpolation=cv2.INTER_AREA)\n",
    "    img = cv2.bitwise_not(img)\n",
    "    img = img / 256\n",
    "    ax = fig.add_subplot(2, 5, i)\n",
    "    ax.set_xticks([])\n",
    "    ax.set_yticks([])\n",
    "    plt.imshow(img)\n",
    "    \n",
    "    # Convert numpy image into tensor image\n",
    "    # Select only 1 channel of RGB images is enough.\n",
    "    # Add dimension to image to have the same format as MNIST data which has 4 dimensions with unsqueeze()\n",
    "    img = torch.Tensor(img[:,:,0])\n",
    "    img = img.unsqueeze(0).unsqueeze(0)\n",
    "    \n",
    "    # Prediction\n",
    "    predict = model_mnist.forward(img)\n",
    "    val_predict, indices_predict = torch.max(predict, 0)\n",
    "    print(path, \", predicted number=\", int(indices_predict))\n",
    "    plt.title(str(int(indices_predict)))\n"
   ]
  },
  {
   "cell_type": "code",
   "execution_count": 50,
   "id": "1a401497-16ae-442e-8f24-b7913bd4dff0",
   "metadata": {},
   "outputs": [],
   "source": [
    "# Save the model in PyTorch .pth file with its current state\n",
    "import torch\n",
    "path = 'model_mnist.pth'\n",
    "torch.save(model_mnist, path)"
   ]
  },
  {
   "cell_type": "code",
   "execution_count": 51,
   "id": "c5ef35f2-3335-42db-be50-bf86bdb3b270",
   "metadata": {},
   "outputs": [],
   "source": [
    "# Export ONNX formatted model from .pth model \n",
    "import torch\n",
    "\n",
    "path = 'model_mnist.pth'\n",
    "loaded_model = torch.load(path, weights_only=False)\n",
    "loaded_model.eval()\n",
    "\n",
    "# input_size = 28*28\n",
    "dummy_input = torch.rand(1, 28, 28)\n",
    "input_names = [\"input\"]\n",
    "output_names = [\"output\"]\n",
    "torch.onnx.export(loaded_model,\n",
    "                 dummy_input,\n",
    "                 \"model_mnist.onnx\",\n",
    "                 verbose=False,\n",
    "                 input_names=input_names,\n",
    "                 output_names=output_names,\n",
    "                 export_params=True,\n",
    "                 )"
   ]
  },
  {
   "cell_type": "code",
   "execution_count": null,
   "id": "1818f04d-b60a-4753-9952-114cc73f214c",
   "metadata": {},
   "outputs": [],
   "source": []
  }
 ],
 "metadata": {
  "kernelspec": {
   "display_name": "Python 3 (ipykernel)",
   "language": "python",
   "name": "python3"
  },
  "language_info": {
   "codemirror_mode": {
    "name": "ipython",
    "version": 3
   },
   "file_extension": ".py",
   "mimetype": "text/x-python",
   "name": "python",
   "nbconvert_exporter": "python",
   "pygments_lexer": "ipython3",
   "version": "3.10.12"
  }
 },
 "nbformat": 4,
 "nbformat_minor": 5
}
